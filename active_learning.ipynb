{
 "cells": [
  {
   "cell_type": "markdown",
   "id": "1cdbb37b-f1a8-40cc-84db-cd8805b4425d",
   "metadata": {},
   "source": [
    "Active learning\n",
    "===\n",
    "Using active learning (e.g. using PsiZ or NEXT) to collect a new set of similarity judgments for spider images. These collected judgments could then be used for this project: https://github.com/dominikpegler/mds_cnn/\n",
    "* https://psiz.org/\n",
    "* http://nextml.org/"
   ]
  },
  {
   "cell_type": "code",
   "execution_count": null,
   "id": "27dfa0ac-f8df-4fd6-8152-9a4a8ad34d15",
   "metadata": {},
   "outputs": [],
   "source": []
  }
 ],
 "metadata": {
  "kernelspec": {
   "display_name": "Python 3 (ipykernel)",
   "language": "python",
   "name": "python3"
  },
  "language_info": {
   "codemirror_mode": {
    "name": "ipython",
    "version": 3
   },
   "file_extension": ".py",
   "mimetype": "text/x-python",
   "name": "python",
   "nbconvert_exporter": "python",
   "pygments_lexer": "ipython3",
   "version": "3.9.0"
  }
 },
 "nbformat": 4,
 "nbformat_minor": 5
}
