{
 "cells": [
  {
   "cell_type": "markdown",
   "id": "1cdbb37b-f1a8-40cc-84db-cd8805b4425d",
   "metadata": {},
   "source": [
    "Active learning\n",
    "===\n",
    "Using active learning (e.g. using PsiZ or NEXT) to collect a new set of similarity judgments for spider images. These collected judgments could then be used for this project: https://github.com/dominikpegler/mds_cnn/"
   ]
  },
  {
   "cell_type": "markdown",
   "id": "446027af-c7a4-4ad5-a437-b43643ead5c0",
   "metadata": {},
   "source": [
    "## psiz ...\n",
    "... does:\n",
    "\n",
    "* data collection\n",
    "* data analysis\n",
    "* dataset curation\n",
    "\n",
    "https://psiz.org/  \n",
    "https://github.com/roads/psiz"
   ]
  },
  {
   "cell_type": "code",
   "execution_count": null,
   "id": "e5c4c68a-d64b-47bc-9e9c-099b3cb650b7",
   "metadata": {},
   "outputs": [],
   "source": []
  },
  {
   "cell_type": "markdown",
   "id": "a93e1767-48c6-428e-b298-0688c8d9b9e5",
   "metadata": {},
   "source": [
    "## nextml ...\n",
    "... is a system that makes active learning easy to\n",
    "* develop\n",
    "* evaluate\n",
    "* apply\n",
    "\n",
    "http://nextml.org/  \n",
    "https://github.com/nextml/next/  \n",
    "https://www.youtube.com/watch?v=rTyu4QTXZTc  "
   ]
  },
  {
   "cell_type": "code",
   "execution_count": null,
   "id": "52302075-25d3-4887-a3b8-49353c556b69",
   "metadata": {},
   "outputs": [],
   "source": []
  },
  {
   "cell_type": "markdown",
   "id": "00db4057-5e28-4d59-86ba-84d06c1fc3cb",
   "metadata": {},
   "source": [
    "## superintendent ...\n",
    "... provides\n",
    "\n",
    "* ipywidget-based interactive labelling tool for data\n",
    "* flexibly labelling all kinds of data\n",
    "* combining data-labelling task with a statistical or machine learning model\n",
    "\n",
    "https://github.com/janfreyberg/superintendent"
   ]
  },
  {
   "cell_type": "code",
   "execution_count": null,
   "id": "dd8d1f0c-432c-4a28-a780-b6609994ca7a",
   "metadata": {},
   "outputs": [],
   "source": []
  }
 ],
 "metadata": {
  "kernelspec": {
   "display_name": "Python 3 (ipykernel)",
   "language": "python",
   "name": "python3"
  },
  "language_info": {
   "codemirror_mode": {
    "name": "ipython",
    "version": 3
   },
   "file_extension": ".py",
   "mimetype": "text/x-python",
   "name": "python",
   "nbconvert_exporter": "python",
   "pygments_lexer": "ipython3",
   "version": "3.9.0"
  }
 },
 "nbformat": 4,
 "nbformat_minor": 5
}
