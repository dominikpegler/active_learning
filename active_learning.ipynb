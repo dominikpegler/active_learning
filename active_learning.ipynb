{
 "cells": [
  {
   "cell_type": "markdown",
   "id": "1cdbb37b-f1a8-40cc-84db-cd8805b4425d",
   "metadata": {},
   "source": [
    "Active learning\n",
    "===\n",
    "Using active learning (e.g. using PsiZ or NEXT) to collect a new set of similarity judgments for spider images. These collected judgments could then be used for this project: https://github.com/dominikpegler/mds_cnn/"
   ]
  },
  {
   "cell_type": "markdown",
   "id": "67d09dc9-20af-45af-881d-688608ccbfbb",
   "metadata": {},
   "source": [
    "## pytorch_active_learning\n",
    "https://github.com/rmunro/pytorch_active_learning"
   ]
  },
  {
   "cell_type": "code",
   "execution_count": null,
   "id": "5e98b88a-7531-4339-baa8-56e3e15cc0fa",
   "metadata": {},
   "outputs": [],
   "source": []
  },
  {
   "cell_type": "markdown",
   "id": "a32ad29c-2075-4916-bbac-4e7efcdde9d5",
   "metadata": {},
   "source": [
    "## deep-active-learning-pytorch\n",
    "https://github.com/acl21/deep-active-learning-pytorch"
   ]
  },
  {
   "cell_type": "code",
   "execution_count": null,
   "id": "e402e9e8-817c-4882-8510-a28669053a1b",
   "metadata": {},
   "outputs": [],
   "source": []
  },
  {
   "cell_type": "markdown",
   "id": "1f7b5724-aa59-42fe-b238-d757e5500fa0",
   "metadata": {},
   "source": [
    "## other PyTorch ressources\n",
    "* https://blog.scaleway.com/active-learning-pytorch/\n",
    "* https://devblog.pytorchlightning.ai/active-learning-made-simple-using-flash-and-baal-2216df6f872c\n",
    "* https://medium.com/scaleway-cloud/active-learning-with-pytorch-dc6805956b0f"
   ]
  },
  {
   "cell_type": "code",
   "execution_count": null,
   "id": "8b3bd8ce-be5b-4503-9067-3a1e50251695",
   "metadata": {},
   "outputs": [],
   "source": []
  },
  {
   "cell_type": "markdown",
   "id": "446027af-c7a4-4ad5-a437-b43643ead5c0",
   "metadata": {},
   "source": [
    "## psiz ...\n",
    "... does:\n",
    "\n",
    "* data collection\n",
    "* data analysis\n",
    "* dataset curation\n",
    "\n",
    "https://psiz.org/  \n",
    "https://github.com/roads/psiz\n",
    "\n",
    "<div class=\"alert-info alert\">Uses tensorflow</div>"
   ]
  },
  {
   "cell_type": "code",
   "execution_count": null,
   "id": "146bd7e2-8519-4d20-83ca-322bcfedb3d2",
   "metadata": {},
   "outputs": [],
   "source": []
  },
  {
   "cell_type": "markdown",
   "id": "00db4057-5e28-4d59-86ba-84d06c1fc3cb",
   "metadata": {},
   "source": [
    "## superintendent ...\n",
    "... provides\n",
    "\n",
    "* ipywidget-based interactive labelling tool for data\n",
    "* flexibly labelling all kinds of data\n",
    "* combining data-labelling task with a statistical or machine learning model\n",
    "\n",
    "https://github.com/janfreyberg/superintendent\n",
    "\n",
    "<div class=\"alert-warning alert\">Looks not very up-to-date. Active learning via Voila-Dashboard is no stable solution. But superintendent might be interesting for practicing active learning.</div>"
   ]
  },
  {
   "cell_type": "markdown",
   "id": "6ba78614-76aa-4fef-bc98-7a68220ccae7",
   "metadata": {},
   "source": [
    "---"
   ]
  },
  {
   "cell_type": "markdown",
   "id": "67daab31-457c-4d64-a7e0-adea8f91351b",
   "metadata": {},
   "source": [
    "## NEXT ...\n",
    "... is a system that makes active learning easy to\n",
    "* develop\n",
    "* evaluate\n",
    "* apply\n",
    "\n",
    "http://nextml.org/  \n",
    "https://github.com/nextml/next/  \n",
    "https://www.youtube.com/watch?v=rTyu4QTXZTc  \n",
    "\n",
    "<div class=\"alert alert-danger\">Implemented in Python 2.</div>"
   ]
  }
 ],
 "metadata": {
  "kernelspec": {
   "display_name": "Python 3 (ipykernel)",
   "language": "python",
   "name": "python3"
  },
  "language_info": {
   "codemirror_mode": {
    "name": "ipython",
    "version": 3
   },
   "file_extension": ".py",
   "mimetype": "text/x-python",
   "name": "python",
   "nbconvert_exporter": "python",
   "pygments_lexer": "ipython3",
   "version": "3.9.12"
  }
 },
 "nbformat": 4,
 "nbformat_minor": 5
}
